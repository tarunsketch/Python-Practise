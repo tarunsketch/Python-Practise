{
 "cells": [
  {
   "cell_type": "code",
   "execution_count": 1,
   "id": "4294bffb",
   "metadata": {},
   "outputs": [
    {
     "name": "stdout",
     "output_type": "stream",
     "text": [
      "Enter the number of elements: 5\n",
      "Enter the elements: 1\n",
      "Enter the elements: 2\n",
      "Enter the elements: 3\n",
      "Enter the elements: 4\n",
      "Enter the elements: 5\n",
      "given list: [1, 2, 3, 4, 5]\n",
      "Manipulated list: [4, 5, 3, 1, 2]\n"
     ]
    }
   ],
   "source": [
    "#                   ********This programme works only for odd no of elements in a list********\n",
    "\n",
    "ls = []\n",
    "usr = int(input(\"Enter the number of elements: \"))  #getting user input for the list to be reversed\n",
    "\n",
    "for b in range(usr): # b = variable to store the elements entered by the usr\n",
    "    ele = int(input(\"Enter the elements: \"))\n",
    "    ls.append(ele)\n",
    "print(f'given list: {ls}') #Prints the list entered by the usr\n",
    "\n",
    "x = len(ls)//2 # to find the median of the given list\n",
    "ls1 = []\n",
    "ls2 = []\n",
    "\n",
    "for aft in range(x+1,len(ls)): # aft = elements after the mid value\n",
    "    ls1.append(ls[aft])\n",
    "\n",
    "for bef in range(0,x): # bef = elements before the mid value\n",
    "    ls2.append(ls[bef])\n",
    "\n",
    "for loop in range(len(ls1)): # Here we unpack the 'ls1' and update it to 'ls'\n",
    "    ls[loop] = ls1[loop]\n",
    "\n",
    "for lop in range(len(ls2)): # Here we unpack the 'ls2' and update it to 'ls'\n",
    "    ls[x+1+lop] = ls2[lop]\n",
    "   \n",
    "\n",
    "print(f'Manipulated list: {ls}')\n",
    "    "
   ]
  }
 ],
 "metadata": {
  "kernelspec": {
   "display_name": "Python 3 (ipykernel)",
   "language": "python",
   "name": "python3"
  },
  "language_info": {
   "codemirror_mode": {
    "name": "ipython",
    "version": 3
   },
   "file_extension": ".py",
   "mimetype": "text/x-python",
   "name": "python",
   "nbconvert_exporter": "python",
   "pygments_lexer": "ipython3",
   "version": "3.9.13"
  }
 },
 "nbformat": 4,
 "nbformat_minor": 5
}
